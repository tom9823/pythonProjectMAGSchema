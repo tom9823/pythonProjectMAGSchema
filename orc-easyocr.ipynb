{
 "cells": [
  {
   "cell_type": "markdown",
   "metadata": {},
   "source": [
    "### Optical Character Recognition\n",
    "\n",
    "<ul>\n",
    "    <li>pip install easyocr</li>\n",
    "</ul>"
   ]
  },
  {
   "cell_type": "code",
   "execution_count": 8,
   "metadata": {},
   "outputs": [],
   "source": [
    "import os\n",
    "import glob\n",
    "import easyocr\n",
    "import cv2"
   ]
  },
  {
   "cell_type": "code",
   "execution_count": 9,
   "metadata": {},
   "outputs": [],
   "source": [
    "def get_files():\n",
    "    files = glob.glob(\"./*\")\n",
    "    return files"
   ]
  },
  {
   "cell_type": "code",
   "execution_count": 11,
   "metadata": {},
   "outputs": [
    {
     "name": "stderr",
     "output_type": "stream",
     "text": [
      "Neither CUDA nor MPS are available - defaulting to CPU. Note: This module is much faster with a GPU.\n"
     ]
    }
   ],
   "source": [
    "# Inizializza il lettore EasyOCR\n",
    "reader = easyocr.Reader(['it'])  # 'it' per l'italiano"
   ]
  },
  {
   "cell_type": "code",
   "execution_count": 24,
   "metadata": {},
   "outputs": [
    {
     "name": "stdout",
     "output_type": "stream",
     "text": [
      "FILES: ['data\\\\barilla.jpg', 'data\\\\barilla2.jpg', 'data\\\\barilla3.jpg', 'data\\\\barilla4.jpg', 'data\\\\fiorentina.jpg']\n",
      "\n",
      "\n",
      "IMMAGINE: data\\barilla.jpg\n",
      "    Barilla\n",
      "IMMAGINE: data\\barilla2.jpg\n",
      "    Bariitg\n",
      "IMMAGINE: data\\barilla3.jpg\n",
      "    Barilla\n",
      "IMMAGINE: data\\barilla4.jpg\n",
      "    Sh\n",
      "    28\n",
      "    0\n",
      "    11\n",
      "    0\n",
      "    0f\n",
      "    n\n",
      "    73\n",
      "    os\n",
      "    Barilla\n",
      "    Barilla\n",
      "    PENNE\n",
      "    RIGaTE\n",
      "    RIGATE\n",
      "    eses\n",
      "    PENNE\n",
      "    Minuten\n",
      "    KoCHZEIT\n",
      "    5OOge\n",
      "    ;\n",
      "    PA STA `\n",
      "    M A sTeRs\n",
      "IMMAGINE: data\\fiorentina.jpg\n",
      "    EN7\n",
      "    FiorEnTINA\n",
      "    aithJf\n",
      "    3\n",
      "    192\n",
      "    oser\n"
     ]
    }
   ],
   "source": [
    "files = get_files()\n",
    "print(f\"FILES: {files}\")\n",
    "print('\\n')\n",
    "\n",
    "for image_path in files:\n",
    "    img = cv2.imread(image_path)\n",
    "    result = reader.readtext(img)\n",
    "    print(f\"IMMAGINE: {image_path}\")\n",
    "    for detection in result:\n",
    "        print(f\"    {detection[1]}\")"
   ]
  }
 ],
 "metadata": {
  "kernelspec": {
   "display_name": "Python 3",
   "language": "python",
   "name": "python3"
  },
  "language_info": {
   "codemirror_mode": {
    "name": "ipython",
    "version": 3
   },
   "file_extension": ".py",
   "mimetype": "text/x-python",
   "name": "python",
   "nbconvert_exporter": "python",
   "pygments_lexer": "ipython3",
   "version": "3.12.3"
  }
 },
 "nbformat": 4,
 "nbformat_minor": 2
}
